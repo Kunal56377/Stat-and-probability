{
  "nbformat": 4,
  "nbformat_minor": 0,
  "metadata": {
    "colab": {
      "name": "Untitled17.ipynb",
      "provenance": []
    },
    "kernelspec": {
      "name": "python3",
      "display_name": "Python 3"
    },
    "language_info": {
      "name": "python"
    }
  },
  "cells": [
    {
      "cell_type": "code",
      "execution_count": 7,
      "metadata": {
        "id": "v_XUMk9aDK3L"
      },
      "outputs": [],
      "source": [
        "import numpy as np\n",
        "import random"
      ]
    },
    {
      "cell_type": "code",
      "source": [
        "mean1 = 4\n",
        "sd1 = 2\n",
        "data = np.random.normal(mean1,sd1,10000) # Popluation set"
      ],
      "metadata": {
        "id": "AtYRvQ1GDPDC"
      },
      "execution_count": 4,
      "outputs": []
    },
    {
      "cell_type": "code",
      "source": [
        "print(data[0:10])"
      ],
      "metadata": {
        "colab": {
          "base_uri": "https://localhost:8080/"
        },
        "id": "QG2ZRJFxDW5z",
        "outputId": "c7413fbf-e768-40e9-a079-0b42e8940a97"
      },
      "execution_count": 3,
      "outputs": [
        {
          "output_type": "stream",
          "name": "stdout",
          "text": [
            "[4.90553955 0.7927757  2.61915873 2.82542559 3.47175365 5.66107924\n",
            " 4.9388858  4.35855326 5.656622   4.58739203]\n"
          ]
        }
      ]
    },
    {
      "cell_type": "code",
      "source": [
        "n_sample = 1000"
      ],
      "metadata": {
        "id": "bezxB74IDZJm"
      },
      "execution_count": 33,
      "outputs": []
    },
    {
      "cell_type": "code",
      "source": [
        "sample_set = []"
      ],
      "metadata": {
        "id": "hkxcUZhZEEM_"
      },
      "execution_count": 34,
      "outputs": []
    },
    {
      "cell_type": "code",
      "source": [
        "for i in range(0,n_sample):\n",
        "  rand_idx = random.randint(0, len(data)-1)\n",
        "  random_num = data[rand_idx]\n",
        "  sample_set.append(random_num)\n",
        "  \n"
      ],
      "metadata": {
        "id": "irw_7XVeD5hE"
      },
      "execution_count": 35,
      "outputs": []
    },
    {
      "cell_type": "code",
      "source": [
        "sum(sample_set)/ len(sample_set)"
      ],
      "metadata": {
        "colab": {
          "base_uri": "https://localhost:8080/"
        },
        "id": "SrvCBq9zEd79",
        "outputId": "c14d1da0-2f68-4991-d8c8-d91b79e21303"
      },
      "execution_count": 36,
      "outputs": [
        {
          "output_type": "execute_result",
          "data": {
            "text/plain": [
              "4.087439373358653"
            ]
          },
          "metadata": {},
          "execution_count": 36
        }
      ]
    },
    {
      "cell_type": "code",
      "source": [
        ""
      ],
      "metadata": {
        "id": "Gj4iYnhqEl3r"
      },
      "execution_count": null,
      "outputs": []
    }
  ]
}